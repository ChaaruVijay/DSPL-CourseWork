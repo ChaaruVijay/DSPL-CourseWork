{
  "nbformat": 4,
  "nbformat_minor": 0,
  "metadata": {
    "colab": {
      "provenance": [],
      "authorship_tag": "ABX9TyOJnO98ZmB4jJJOIcJipiAN",
      "include_colab_link": true
    },
    "kernelspec": {
      "name": "python3",
      "display_name": "Python 3"
    },
    "language_info": {
      "name": "python"
    }
  },
  "cells": [
    {
      "cell_type": "markdown",
      "metadata": {
        "id": "view-in-github",
        "colab_type": "text"
      },
      "source": [
        "<a href=\"https://colab.research.google.com/github/ChaaruVijay/DSPL-CourseWork/blob/main/Deployment.ipynb\" target=\"_parent\"><img src=\"https://colab.research.google.com/assets/colab-badge.svg\" alt=\"Open In Colab\"/></a>"
      ]
    },
    {
      "cell_type": "code",
      "source": [
        "import pandas as pd\n",
        "import pickle"
      ],
      "metadata": {
        "id": "Oa-GUPqGDZ8E"
      },
      "execution_count": 21,
      "outputs": []
    },
    {
      "cell_type": "code",
      "source": [
        "# Load test data\n",
        "test_df = pd.read_csv(\"cleaned_test.csv\")\n",
        "customer_ids = test_df['Customer_ID']"
      ],
      "metadata": {
        "id": "rsUj5OFpDbWA"
      },
      "execution_count": 22,
      "outputs": []
    },
    {
      "cell_type": "code",
      "source": [
        "with open(\"finalized_model.sav\", \"rb\") as f:\n",
        "    model = pickle.load(f)"
      ],
      "metadata": {
        "colab": {
          "base_uri": "https://localhost:8080/"
        },
        "id": "1vM3qEhHDc9i",
        "outputId": "66f74031-c1b2-47ef-8e0c-48c92ab8744d"
      },
      "execution_count": 23,
      "outputs": [
        {
          "output_type": "stream",
          "name": "stderr",
          "text": [
            "/usr/local/lib/python3.11/dist-packages/keras/src/saving/saving_lib.py:757: UserWarning: Skipping variable loading for optimizer 'adam', because it has 30 variables whereas the saved optimizer has 2 variables. \n",
            "  saveable.load_own_variables(weights_store.get(inner_path))\n"
          ]
        }
      ]
    },
    {
      "cell_type": "code",
      "source": [
        "# Preprocess test data using same steps as training\n",
        "features = ['luxury_sales', 'fresh_sales', 'dry_sales', 'outlet_city']\n",
        "X_test = test_df[features].copy()"
      ],
      "metadata": {
        "id": "UMN2gYp6DfZw"
      },
      "execution_count": 24,
      "outputs": []
    },
    {
      "cell_type": "code",
      "source": [
        "# Encode outlet_city using the same encoder\n",
        "X_test['outlet_city'] = outlet_city_encoder.transform(X_test['outlet_city'])"
      ],
      "metadata": {
        "id": "zD9tAtZjDgGn"
      },
      "execution_count": 25,
      "outputs": []
    },
    {
      "cell_type": "code",
      "source": [
        "# Scale features using the same scaler\n",
        "X_test_scaled = scaler.transform(X_test)"
      ],
      "metadata": {
        "id": "_z8B5dPNDivb"
      },
      "execution_count": 26,
      "outputs": []
    },
    {
      "cell_type": "code",
      "source": [
        "# Predict\n",
        "predictions = model.predict(X_test_scaled)"
      ],
      "metadata": {
        "colab": {
          "base_uri": "https://localhost:8080/"
        },
        "id": "XpHSfxH6Dmcn",
        "outputId": "cc49c14e-0d0d-49b9-9207-e0751a983e2c"
      },
      "execution_count": 27,
      "outputs": [
        {
          "output_type": "stream",
          "name": "stdout",
          "text": [
            "\u001b[1m1274/1274\u001b[0m \u001b[32m━━━━━━━━━━━━━━━━━━━━\u001b[0m\u001b[37m\u001b[0m \u001b[1m3s\u001b[0m 2ms/step\n"
          ]
        }
      ]
    },
    {
      "cell_type": "code",
      "source": [
        "# Confirm dimensions match\n",
        "assert len(predictions) == len(customer_ids), \"Prediction length mismatch with customer IDs.\""
      ],
      "metadata": {
        "id": "S3_QAk6lDm3Y"
      },
      "execution_count": 28,
      "outputs": []
    },
    {
      "cell_type": "code",
      "source": [
        "import numpy as np\n",
        "\n",
        "# Get class predictions from probability output\n",
        "predictions = model.predict(X_test_scaled)\n",
        "predicted_classes = np.argmax(predictions, axis=1)  # Converts from shape (n_samples, n_classes) to (n_samples,)"
      ],
      "metadata": {
        "colab": {
          "base_uri": "https://localhost:8080/"
        },
        "id": "Dzr_1kwpDqiW",
        "outputId": "e06636ef-8620-40b9-b2e1-348d1237518e"
      },
      "execution_count": 29,
      "outputs": [
        {
          "output_type": "stream",
          "name": "stdout",
          "text": [
            "\u001b[1m1274/1274\u001b[0m \u001b[32m━━━━━━━━━━━━━━━━━━━━\u001b[0m\u001b[37m\u001b[0m \u001b[1m2s\u001b[0m 2ms/step\n"
          ]
        }
      ]
    },
    {
      "cell_type": "code",
      "source": [
        "# Now create the output DataFrame\n",
        "output_df = pd.DataFrame({\n",
        "    'customer_id': customer_ids,\n",
        "    'predicted_customer_segmentation': predicted_classes\n",
        "})"
      ],
      "metadata": {
        "id": "uR3gRhvUDtVP"
      },
      "execution_count": 30,
      "outputs": []
    },
    {
      "cell_type": "code",
      "source": [
        "# Save to CSV\n",
        "output_df.to_csv(\"predicted_customer_segments.csv\", index=False)\n",
        "print(\"✅ Prediction complete. File saved: predicted_customer_segments.csv\")"
      ],
      "metadata": {
        "colab": {
          "base_uri": "https://localhost:8080/"
        },
        "id": "F-BOzAdxCENw",
        "outputId": "046da318-6dd1-4839-90ee-5a5688890773"
      },
      "execution_count": 31,
      "outputs": [
        {
          "output_type": "stream",
          "name": "stdout",
          "text": [
            "✅ Prediction complete. File saved: predicted_customer_segments.csv\n"
          ]
        }
      ]
    },
    {
      "cell_type": "code",
      "source": [
        "import matplotlib.pyplot as plt\n",
        "import pandas as pd\n",
        "\n",
        "# 🔍 Filter data for selected Customer IDs\n",
        "selected_customers =cleaned_test['Customer_ID'([33698, 4185, 28664, 11874, 11431])]\n",
        "\n",
        "# 📊 Extract sales data\n",
        "sales_data = selected_customers[['luxury_sales', 'fresh_sales', 'dry_sales']]\n",
        "\n",
        "# 🔄 Transpose data for plotting (sales types on X-axis, values for each customer)\n",
        "sales_data = sales_data.T\n",
        "sales_data.columns = selected_customers['Customer_ID']\n",
        "\n",
        "# 📈 Create bar chart\n",
        "sales_data.plot(kind='bar', figsize=(10, 6))\n",
        "\n",
        "# 🏷️ Add chart labels and title\n",
        "plt.title('Sales Types for Selected Customers')\n",
        "plt.xlabel('Sales Type')\n",
        "plt.ylabel('Sales Value')\n",
        "plt.xticks(rotation=0)  # Keep x-axis labels horizontal\n",
        "plt.legend(title='Customer ID')\n",
        "\n",
        "plt.tight_layout()\n",
        "plt.show()"
      ],
      "metadata": {
        "colab": {
          "base_uri": "https://localhost:8080/",
          "height": 280
        },
        "id": "pTj4KBQfGwhW",
        "outputId": "b4a46023-4003-471e-f196-5e92640246d1"
      },
      "execution_count": 34,
      "outputs": [
        {
          "output_type": "stream",
          "name": "stderr",
          "text": [
            "<>:5: SyntaxWarning: 'str' object is not callable; perhaps you missed a comma?\n",
            "<>:5: SyntaxWarning: 'str' object is not callable; perhaps you missed a comma?\n",
            "<ipython-input-34-899647a35fc0>:5: SyntaxWarning: 'str' object is not callable; perhaps you missed a comma?\n",
            "  selected_customers =cleaned_test['Customer_ID'([33698, 4185, 28664, 11874, 11431])]\n"
          ]
        },
        {
          "output_type": "error",
          "ename": "TypeError",
          "evalue": "'str' object is not callable",
          "traceback": [
            "\u001b[0;31m---------------------------------------------------------------------------\u001b[0m",
            "\u001b[0;31mTypeError\u001b[0m                                 Traceback (most recent call last)",
            "\u001b[0;32m<ipython-input-34-899647a35fc0>\u001b[0m in \u001b[0;36m<cell line: 0>\u001b[0;34m()\u001b[0m\n\u001b[1;32m      3\u001b[0m \u001b[0;34m\u001b[0m\u001b[0m\n\u001b[1;32m      4\u001b[0m \u001b[0;31m# 🔍 Filter data for selected Customer IDs\u001b[0m\u001b[0;34m\u001b[0m\u001b[0;34m\u001b[0m\u001b[0m\n\u001b[0;32m----> 5\u001b[0;31m \u001b[0mselected_customers\u001b[0m \u001b[0;34m=\u001b[0m\u001b[0mcleaned_test\u001b[0m\u001b[0;34m[\u001b[0m\u001b[0;34m'Customer_ID'\u001b[0m\u001b[0;34m(\u001b[0m\u001b[0;34m[\u001b[0m\u001b[0;36m33698\u001b[0m\u001b[0;34m,\u001b[0m \u001b[0;36m4185\u001b[0m\u001b[0;34m,\u001b[0m \u001b[0;36m28664\u001b[0m\u001b[0;34m,\u001b[0m \u001b[0;36m11874\u001b[0m\u001b[0;34m,\u001b[0m \u001b[0;36m11431\u001b[0m\u001b[0;34m]\u001b[0m\u001b[0;34m)\u001b[0m\u001b[0;34m]\u001b[0m\u001b[0;34m\u001b[0m\u001b[0;34m\u001b[0m\u001b[0m\n\u001b[0m\u001b[1;32m      6\u001b[0m \u001b[0;34m\u001b[0m\u001b[0m\n\u001b[1;32m      7\u001b[0m \u001b[0;31m# 📊 Extract sales data\u001b[0m\u001b[0;34m\u001b[0m\u001b[0;34m\u001b[0m\u001b[0m\n",
            "\u001b[0;31mTypeError\u001b[0m: 'str' object is not callable"
          ]
        }
      ]
    }
  ]
}