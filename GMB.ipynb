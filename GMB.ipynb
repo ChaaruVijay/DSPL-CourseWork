{
  "nbformat": 4,
  "nbformat_minor": 0,
  "metadata": {
    "colab": {
      "provenance": [],
      "include_colab_link": true
    },
    "kernelspec": {
      "name": "python3",
      "display_name": "Python 3"
    },
    "language_info": {
      "name": "python"
    }
  },
  "cells": [
    {
      "cell_type": "markdown",
      "metadata": {
        "id": "view-in-github",
        "colab_type": "text"
      },
      "source": [
        "<a href=\"https://colab.research.google.com/github/ChaaruVijay/DSPL-CourseWork/blob/main/GMB.ipynb\" target=\"_parent\"><img src=\"https://colab.research.google.com/assets/colab-badge.svg\" alt=\"Open In Colab\"/></a>"
      ]
    },
    {
      "cell_type": "markdown",
      "source": [
        "# **Train CSV**"
      ],
      "metadata": {
        "id": "AwDNXx2MfHIH"
      }
    },
    {
      "cell_type": "markdown",
      "source": [
        "Data Cleaning"
      ],
      "metadata": {
        "id": "UPm5LeeJfPQw"
      }
    },
    {
      "cell_type": "markdown",
      "source": [
        "Data cleaning Tasks : Handling missing values. Correcting data entry errors. Standardizing data formats. Encoding categorical variables. Removing duplicates or irrelevant data."
      ],
      "metadata": {
        "id": "L-LcYMbhfS28"
      }
    },
    {
      "cell_type": "code",
      "source": [
        "import pandas as pd\n",
        "train = pd.read_csv('traincsv.csv')"
      ],
      "metadata": {
        "id": "PWW9l0EWfOx0",
        "outputId": "34971c6f-dbdf-4cf3-b859-080bda205d31",
        "colab": {
          "base_uri": "https://localhost:8080/"
        }
      },
      "execution_count": 3,
      "outputs": [
        {
          "output_type": "stream",
          "name": "stderr",
          "text": [
            "<ipython-input-3-936b2d0d5935>:2: DtypeWarning: Columns (3,4,5) have mixed types. Specify dtype option on import or set low_memory=False.\n",
            "  train = pd.read_csv('traincsv.csv')\n"
          ]
        }
      ]
    },
    {
      "cell_type": "code",
      "source": [
        "#convert the strings to numeric value\n",
        "train['luxury_sales'] = pd.to_numeric(train['luxury_sales'], errors='coerce').astype(float)\n",
        "train['fresh_sales'] = pd.to_numeric(train['fresh_sales'], errors='coerce').astype(float)\n",
        "train['dry_sales'] = pd.to_numeric(train['dry_sales'], errors='coerce').astype(float)"
      ],
      "metadata": {
        "id": "dHn0OexBfhKK"
      },
      "execution_count": 4,
      "outputs": []
    },
    {
      "cell_type": "markdown",
      "source": [
        "Customer ID"
      ],
      "metadata": {
        "id": "4a0OsLP2fm48"
      }
    },
    {
      "cell_type": "code",
      "source": [
        "#Identifying missing rows in customerId\n",
        "missing_index = train[train['Customer_ID'].isna()].index\n",
        "missing_index"
      ],
      "metadata": {
        "id": "6ZWNJHR7fjXa",
        "outputId": "bec58e1c-571f-446d-9192-93f8143ba201",
        "colab": {
          "base_uri": "https://localhost:8080/"
        }
      },
      "execution_count": 5,
      "outputs": [
        {
          "output_type": "execute_result",
          "data": {
            "text/plain": [
              "Index([497678, 497698], dtype='int64')"
            ]
          },
          "metadata": {},
          "execution_count": 5
        }
      ]
    },
    {
      "cell_type": "code",
      "source": [
        "missing_percentage = (train['Customer_ID'].isna().sum() / len(train)) * 100\n",
        "print(f\"Missing Percentage: {missing_percentage:.2f}%\")"
      ],
      "metadata": {
        "id": "3M8QbuoMftCu",
        "outputId": "78f474af-7d30-455e-9e24-b40ecba06e23",
        "colab": {
          "base_uri": "https://localhost:8080/"
        }
      },
      "execution_count": 6,
      "outputs": [
        {
          "output_type": "stream",
          "name": "stdout",
          "text": [
            "Missing Percentage: 0.00%\n"
          ]
        }
      ]
    },
    {
      "cell_type": "code",
      "source": [
        "# Remove rows with missing values in customerId\n",
        "train = train.dropna()"
      ],
      "metadata": {
        "id": "KzHGtGFufudK"
      },
      "execution_count": 7,
      "outputs": []
    },
    {
      "cell_type": "markdown",
      "source": [
        "Outlets"
      ],
      "metadata": {
        "id": "2ll2T9qMfzTz"
      }
    },
    {
      "cell_type": "code",
      "source": [
        "#Identifying unique Ids in test\n",
        "train[\"outlet_city\"].unique()"
      ],
      "metadata": {
        "id": "DTiynZlrLFz7",
        "outputId": "fddfcab2-12c9-47a9-a9aa-4763bfe37fef",
        "colab": {
          "base_uri": "https://localhost:8080/"
        }
      },
      "execution_count": 8,
      "outputs": [
        {
          "output_type": "execute_result",
          "data": {
            "text/plain": [
              "array(['Kelaniya', 'Moratuwa', 'Wattala', 'Homagama',\n",
              "       'Dehiwala-Mount Lavinia', 'Panadura', 'Kaduwela', 'Peliyagoda',\n",
              "       'Kotte', 'Nuwara Eliya', 'Batticaloa', 'Colombo', 'Jaffna',\n",
              "       'Gampaha', 'Kalmunai', 'Galle', 'Katunayake', 'Negombo',\n",
              "       'Trincomalee', 'Kandy'], dtype=object)"
            ]
          },
          "metadata": {},
          "execution_count": 8
        }
      ]
    },
    {
      "cell_type": "markdown",
      "source": [
        "Data Transformation (Encording Categorical Variables)"
      ],
      "metadata": {
        "id": "CCmZdHz_NbcO"
      }
    },
    {
      "cell_type": "code",
      "source": [
        "from sklearn.preprocessing import LabelEncoder\n",
        "\n",
        "# Initialize label encoder\n",
        "le = LabelEncoder()\n",
        "\n",
        "# Fit and transform the outlet_city column\n",
        "train['outlet_city'] = le.fit_transform(train['outlet_city'])\n",
        "\n",
        "# Check encoding\n",
        "print(train[['outlet_city']].head())"
      ],
      "metadata": {
        "id": "1UzLY_WmLcIL",
        "outputId": "6373948b-6a31-49f3-b135-13b17a5c61ab",
        "colab": {
          "base_uri": "https://localhost:8080/"
        }
      },
      "execution_count": 9,
      "outputs": [
        {
          "output_type": "stream",
          "name": "stdout",
          "text": [
            "   outlet_city\n",
            "0           11\n",
            "1           13\n",
            "2           19\n",
            "3           19\n",
            "4           11\n"
          ]
        }
      ]
    },
    {
      "cell_type": "code",
      "source": [
        "train['outlet_city'].unique()"
      ],
      "metadata": {
        "id": "JABRTF2lMlvj",
        "outputId": "0e0e9ffd-64aa-42bd-cad7-727510d893a7",
        "colab": {
          "base_uri": "https://localhost:8080/"
        }
      },
      "execution_count": 10,
      "outputs": [
        {
          "output_type": "execute_result",
          "data": {
            "text/plain": [
              "array([11, 13, 19,  5,  2, 16,  7, 17, 12, 15,  0,  1,  6,  4,  8,  3, 10,\n",
              "       14, 18,  9])"
            ]
          },
          "metadata": {},
          "execution_count": 10
        }
      ]
    },
    {
      "cell_type": "markdown",
      "source": [
        "Data Transformation (cluster Analysis)"
      ],
      "metadata": {
        "id": "ah_9oFcvNL49"
      }
    },
    {
      "cell_type": "code",
      "source": [
        "# Convert numeric values stored as strings to float\n",
        "train['cluster_catgeory'] = pd.to_numeric(train['cluster_catgeory'], errors='coerce')\n",
        "train['cluster_catgeory'].dtype"
      ],
      "metadata": {
        "id": "qpbobs40ON-X",
        "outputId": "d7580326-12f9-4584-94cc-28f5756469e0",
        "colab": {
          "base_uri": "https://localhost:8080/"
        }
      },
      "execution_count": 11,
      "outputs": [
        {
          "output_type": "execute_result",
          "data": {
            "text/plain": [
              "dtype('float64')"
            ]
          },
          "metadata": {},
          "execution_count": 11
        }
      ]
    },
    {
      "cell_type": "code",
      "source": [
        "train.describe()"
      ],
      "metadata": {
        "id": "PceBHo_1OXbd",
        "outputId": "358dd8a4-4dad-4a3f-cff8-d502902565fb",
        "colab": {
          "base_uri": "https://localhost:8080/",
          "height": 300
        }
      },
      "execution_count": 12,
      "outputs": [
        {
          "output_type": "execute_result",
          "data": {
            "text/plain": [
              "        Customer_ID    outlet_city   luxury_sales    fresh_sales  \\\n",
              "count  5.627330e+05  562733.000000  562733.000000  562733.000000   \n",
              "mean   1.038712e+07      10.170406    1659.032948    3305.228709   \n",
              "std    2.235582e+05       5.706929     737.448453    2599.697902   \n",
              "min    1.000000e+07       0.000000     500.000000     500.000000   \n",
              "25%    1.019329e+07       5.000000    1118.900000    1363.830000   \n",
              "50%    1.038727e+07      11.000000    1546.800000    2266.350000   \n",
              "75%    1.058087e+07      15.000000    2044.560000    4465.860000   \n",
              "max    1.077415e+07      19.000000    5249.650000   13982.500000   \n",
              "\n",
              "           dry_sales  cluster_catgeory  \n",
              "count  562733.000000     562732.000000  \n",
              "mean     5627.679294          2.536843  \n",
              "std      3461.527182          1.475577  \n",
              "min       506.400000          1.000000  \n",
              "25%      2289.730000          1.000000  \n",
              "50%      5173.080000          2.000000  \n",
              "75%      8361.420000          4.000000  \n",
              "max     13999.300000        100.000000  "
            ],
            "text/html": [
              "\n",
              "  <div id=\"df-f1dd6d99-0868-4c9e-8d95-3af57cea5fef\" class=\"colab-df-container\">\n",
              "    <div>\n",
              "<style scoped>\n",
              "    .dataframe tbody tr th:only-of-type {\n",
              "        vertical-align: middle;\n",
              "    }\n",
              "\n",
              "    .dataframe tbody tr th {\n",
              "        vertical-align: top;\n",
              "    }\n",
              "\n",
              "    .dataframe thead th {\n",
              "        text-align: right;\n",
              "    }\n",
              "</style>\n",
              "<table border=\"1\" class=\"dataframe\">\n",
              "  <thead>\n",
              "    <tr style=\"text-align: right;\">\n",
              "      <th></th>\n",
              "      <th>Customer_ID</th>\n",
              "      <th>outlet_city</th>\n",
              "      <th>luxury_sales</th>\n",
              "      <th>fresh_sales</th>\n",
              "      <th>dry_sales</th>\n",
              "      <th>cluster_catgeory</th>\n",
              "    </tr>\n",
              "  </thead>\n",
              "  <tbody>\n",
              "    <tr>\n",
              "      <th>count</th>\n",
              "      <td>5.627330e+05</td>\n",
              "      <td>562733.000000</td>\n",
              "      <td>562733.000000</td>\n",
              "      <td>562733.000000</td>\n",
              "      <td>562733.000000</td>\n",
              "      <td>562732.000000</td>\n",
              "    </tr>\n",
              "    <tr>\n",
              "      <th>mean</th>\n",
              "      <td>1.038712e+07</td>\n",
              "      <td>10.170406</td>\n",
              "      <td>1659.032948</td>\n",
              "      <td>3305.228709</td>\n",
              "      <td>5627.679294</td>\n",
              "      <td>2.536843</td>\n",
              "    </tr>\n",
              "    <tr>\n",
              "      <th>std</th>\n",
              "      <td>2.235582e+05</td>\n",
              "      <td>5.706929</td>\n",
              "      <td>737.448453</td>\n",
              "      <td>2599.697902</td>\n",
              "      <td>3461.527182</td>\n",
              "      <td>1.475577</td>\n",
              "    </tr>\n",
              "    <tr>\n",
              "      <th>min</th>\n",
              "      <td>1.000000e+07</td>\n",
              "      <td>0.000000</td>\n",
              "      <td>500.000000</td>\n",
              "      <td>500.000000</td>\n",
              "      <td>506.400000</td>\n",
              "      <td>1.000000</td>\n",
              "    </tr>\n",
              "    <tr>\n",
              "      <th>25%</th>\n",
              "      <td>1.019329e+07</td>\n",
              "      <td>5.000000</td>\n",
              "      <td>1118.900000</td>\n",
              "      <td>1363.830000</td>\n",
              "      <td>2289.730000</td>\n",
              "      <td>1.000000</td>\n",
              "    </tr>\n",
              "    <tr>\n",
              "      <th>50%</th>\n",
              "      <td>1.038727e+07</td>\n",
              "      <td>11.000000</td>\n",
              "      <td>1546.800000</td>\n",
              "      <td>2266.350000</td>\n",
              "      <td>5173.080000</td>\n",
              "      <td>2.000000</td>\n",
              "    </tr>\n",
              "    <tr>\n",
              "      <th>75%</th>\n",
              "      <td>1.058087e+07</td>\n",
              "      <td>15.000000</td>\n",
              "      <td>2044.560000</td>\n",
              "      <td>4465.860000</td>\n",
              "      <td>8361.420000</td>\n",
              "      <td>4.000000</td>\n",
              "    </tr>\n",
              "    <tr>\n",
              "      <th>max</th>\n",
              "      <td>1.077415e+07</td>\n",
              "      <td>19.000000</td>\n",
              "      <td>5249.650000</td>\n",
              "      <td>13982.500000</td>\n",
              "      <td>13999.300000</td>\n",
              "      <td>100.000000</td>\n",
              "    </tr>\n",
              "  </tbody>\n",
              "</table>\n",
              "</div>\n",
              "    <div class=\"colab-df-buttons\">\n",
              "\n",
              "  <div class=\"colab-df-container\">\n",
              "    <button class=\"colab-df-convert\" onclick=\"convertToInteractive('df-f1dd6d99-0868-4c9e-8d95-3af57cea5fef')\"\n",
              "            title=\"Convert this dataframe to an interactive table.\"\n",
              "            style=\"display:none;\">\n",
              "\n",
              "  <svg xmlns=\"http://www.w3.org/2000/svg\" height=\"24px\" viewBox=\"0 -960 960 960\">\n",
              "    <path d=\"M120-120v-720h720v720H120Zm60-500h600v-160H180v160Zm220 220h160v-160H400v160Zm0 220h160v-160H400v160ZM180-400h160v-160H180v160Zm440 0h160v-160H620v160ZM180-180h160v-160H180v160Zm440 0h160v-160H620v160Z\"/>\n",
              "  </svg>\n",
              "    </button>\n",
              "\n",
              "  <style>\n",
              "    .colab-df-container {\n",
              "      display:flex;\n",
              "      gap: 12px;\n",
              "    }\n",
              "\n",
              "    .colab-df-convert {\n",
              "      background-color: #E8F0FE;\n",
              "      border: none;\n",
              "      border-radius: 50%;\n",
              "      cursor: pointer;\n",
              "      display: none;\n",
              "      fill: #1967D2;\n",
              "      height: 32px;\n",
              "      padding: 0 0 0 0;\n",
              "      width: 32px;\n",
              "    }\n",
              "\n",
              "    .colab-df-convert:hover {\n",
              "      background-color: #E2EBFA;\n",
              "      box-shadow: 0px 1px 2px rgba(60, 64, 67, 0.3), 0px 1px 3px 1px rgba(60, 64, 67, 0.15);\n",
              "      fill: #174EA6;\n",
              "    }\n",
              "\n",
              "    .colab-df-buttons div {\n",
              "      margin-bottom: 4px;\n",
              "    }\n",
              "\n",
              "    [theme=dark] .colab-df-convert {\n",
              "      background-color: #3B4455;\n",
              "      fill: #D2E3FC;\n",
              "    }\n",
              "\n",
              "    [theme=dark] .colab-df-convert:hover {\n",
              "      background-color: #434B5C;\n",
              "      box-shadow: 0px 1px 3px 1px rgba(0, 0, 0, 0.15);\n",
              "      filter: drop-shadow(0px 1px 2px rgba(0, 0, 0, 0.3));\n",
              "      fill: #FFFFFF;\n",
              "    }\n",
              "  </style>\n",
              "\n",
              "    <script>\n",
              "      const buttonEl =\n",
              "        document.querySelector('#df-f1dd6d99-0868-4c9e-8d95-3af57cea5fef button.colab-df-convert');\n",
              "      buttonEl.style.display =\n",
              "        google.colab.kernel.accessAllowed ? 'block' : 'none';\n",
              "\n",
              "      async function convertToInteractive(key) {\n",
              "        const element = document.querySelector('#df-f1dd6d99-0868-4c9e-8d95-3af57cea5fef');\n",
              "        const dataTable =\n",
              "          await google.colab.kernel.invokeFunction('convertToInteractive',\n",
              "                                                    [key], {});\n",
              "        if (!dataTable) return;\n",
              "\n",
              "        const docLinkHtml = 'Like what you see? Visit the ' +\n",
              "          '<a target=\"_blank\" href=https://colab.research.google.com/notebooks/data_table.ipynb>data table notebook</a>'\n",
              "          + ' to learn more about interactive tables.';\n",
              "        element.innerHTML = '';\n",
              "        dataTable['output_type'] = 'display_data';\n",
              "        await google.colab.output.renderOutput(dataTable, element);\n",
              "        const docLink = document.createElement('div');\n",
              "        docLink.innerHTML = docLinkHtml;\n",
              "        element.appendChild(docLink);\n",
              "      }\n",
              "    </script>\n",
              "  </div>\n",
              "\n",
              "\n",
              "<div id=\"df-1e346e43-e032-40f5-93e5-270762f40d31\">\n",
              "  <button class=\"colab-df-quickchart\" onclick=\"quickchart('df-1e346e43-e032-40f5-93e5-270762f40d31')\"\n",
              "            title=\"Suggest charts\"\n",
              "            style=\"display:none;\">\n",
              "\n",
              "<svg xmlns=\"http://www.w3.org/2000/svg\" height=\"24px\"viewBox=\"0 0 24 24\"\n",
              "     width=\"24px\">\n",
              "    <g>\n",
              "        <path d=\"M19 3H5c-1.1 0-2 .9-2 2v14c0 1.1.9 2 2 2h14c1.1 0 2-.9 2-2V5c0-1.1-.9-2-2-2zM9 17H7v-7h2v7zm4 0h-2V7h2v10zm4 0h-2v-4h2v4z\"/>\n",
              "    </g>\n",
              "</svg>\n",
              "  </button>\n",
              "\n",
              "<style>\n",
              "  .colab-df-quickchart {\n",
              "      --bg-color: #E8F0FE;\n",
              "      --fill-color: #1967D2;\n",
              "      --hover-bg-color: #E2EBFA;\n",
              "      --hover-fill-color: #174EA6;\n",
              "      --disabled-fill-color: #AAA;\n",
              "      --disabled-bg-color: #DDD;\n",
              "  }\n",
              "\n",
              "  [theme=dark] .colab-df-quickchart {\n",
              "      --bg-color: #3B4455;\n",
              "      --fill-color: #D2E3FC;\n",
              "      --hover-bg-color: #434B5C;\n",
              "      --hover-fill-color: #FFFFFF;\n",
              "      --disabled-bg-color: #3B4455;\n",
              "      --disabled-fill-color: #666;\n",
              "  }\n",
              "\n",
              "  .colab-df-quickchart {\n",
              "    background-color: var(--bg-color);\n",
              "    border: none;\n",
              "    border-radius: 50%;\n",
              "    cursor: pointer;\n",
              "    display: none;\n",
              "    fill: var(--fill-color);\n",
              "    height: 32px;\n",
              "    padding: 0;\n",
              "    width: 32px;\n",
              "  }\n",
              "\n",
              "  .colab-df-quickchart:hover {\n",
              "    background-color: var(--hover-bg-color);\n",
              "    box-shadow: 0 1px 2px rgba(60, 64, 67, 0.3), 0 1px 3px 1px rgba(60, 64, 67, 0.15);\n",
              "    fill: var(--button-hover-fill-color);\n",
              "  }\n",
              "\n",
              "  .colab-df-quickchart-complete:disabled,\n",
              "  .colab-df-quickchart-complete:disabled:hover {\n",
              "    background-color: var(--disabled-bg-color);\n",
              "    fill: var(--disabled-fill-color);\n",
              "    box-shadow: none;\n",
              "  }\n",
              "\n",
              "  .colab-df-spinner {\n",
              "    border: 2px solid var(--fill-color);\n",
              "    border-color: transparent;\n",
              "    border-bottom-color: var(--fill-color);\n",
              "    animation:\n",
              "      spin 1s steps(1) infinite;\n",
              "  }\n",
              "\n",
              "  @keyframes spin {\n",
              "    0% {\n",
              "      border-color: transparent;\n",
              "      border-bottom-color: var(--fill-color);\n",
              "      border-left-color: var(--fill-color);\n",
              "    }\n",
              "    20% {\n",
              "      border-color: transparent;\n",
              "      border-left-color: var(--fill-color);\n",
              "      border-top-color: var(--fill-color);\n",
              "    }\n",
              "    30% {\n",
              "      border-color: transparent;\n",
              "      border-left-color: var(--fill-color);\n",
              "      border-top-color: var(--fill-color);\n",
              "      border-right-color: var(--fill-color);\n",
              "    }\n",
              "    40% {\n",
              "      border-color: transparent;\n",
              "      border-right-color: var(--fill-color);\n",
              "      border-top-color: var(--fill-color);\n",
              "    }\n",
              "    60% {\n",
              "      border-color: transparent;\n",
              "      border-right-color: var(--fill-color);\n",
              "    }\n",
              "    80% {\n",
              "      border-color: transparent;\n",
              "      border-right-color: var(--fill-color);\n",
              "      border-bottom-color: var(--fill-color);\n",
              "    }\n",
              "    90% {\n",
              "      border-color: transparent;\n",
              "      border-bottom-color: var(--fill-color);\n",
              "    }\n",
              "  }\n",
              "</style>\n",
              "\n",
              "  <script>\n",
              "    async function quickchart(key) {\n",
              "      const quickchartButtonEl =\n",
              "        document.querySelector('#' + key + ' button');\n",
              "      quickchartButtonEl.disabled = true;  // To prevent multiple clicks.\n",
              "      quickchartButtonEl.classList.add('colab-df-spinner');\n",
              "      try {\n",
              "        const charts = await google.colab.kernel.invokeFunction(\n",
              "            'suggestCharts', [key], {});\n",
              "      } catch (error) {\n",
              "        console.error('Error during call to suggestCharts:', error);\n",
              "      }\n",
              "      quickchartButtonEl.classList.remove('colab-df-spinner');\n",
              "      quickchartButtonEl.classList.add('colab-df-quickchart-complete');\n",
              "    }\n",
              "    (() => {\n",
              "      let quickchartButtonEl =\n",
              "        document.querySelector('#df-1e346e43-e032-40f5-93e5-270762f40d31 button');\n",
              "      quickchartButtonEl.style.display =\n",
              "        google.colab.kernel.accessAllowed ? 'block' : 'none';\n",
              "    })();\n",
              "  </script>\n",
              "</div>\n",
              "\n",
              "    </div>\n",
              "  </div>\n"
            ],
            "application/vnd.google.colaboratory.intrinsic+json": {
              "type": "dataframe",
              "summary": "{\n  \"name\": \"train\",\n  \"rows\": 8,\n  \"fields\": [\n    {\n      \"column\": \"Customer_ID\",\n      \"properties\": {\n        \"dtype\": \"number\",\n        \"std\": 4632979.870972596,\n        \"min\": 223558.22352120327,\n        \"max\": 10774154.0,\n        \"num_unique_values\": 8,\n        \"samples\": [\n          10387120.101547271,\n          10387273.0,\n          562733.0\n        ],\n        \"semantic_type\": \"\",\n        \"description\": \"\"\n      }\n    },\n    {\n      \"column\": \"outlet_city\",\n      \"properties\": {\n        \"dtype\": \"number\",\n        \"std\": 198952.8329299173,\n        \"min\": 0.0,\n        \"max\": 562733.0,\n        \"num_unique_values\": 8,\n        \"samples\": [\n          10.170405858551035,\n          11.0,\n          562733.0\n        ],\n        \"semantic_type\": \"\",\n        \"description\": \"\"\n      }\n    },\n    {\n      \"column\": \"luxury_sales\",\n      \"properties\": {\n        \"dtype\": \"number\",\n        \"std\": 198312.33145540458,\n        \"min\": 500.0,\n        \"max\": 562733.0,\n        \"num_unique_values\": 8,\n        \"samples\": [\n          1659.0329481654705,\n          1546.8,\n          562733.0\n        ],\n        \"semantic_type\": \"\",\n        \"description\": \"\"\n      }\n    },\n    {\n      \"column\": \"fresh_sales\",\n      \"properties\": {\n        \"dtype\": \"number\",\n        \"std\": 197562.5394806595,\n        \"min\": 500.0,\n        \"max\": 562733.0,\n        \"num_unique_values\": 8,\n        \"samples\": [\n          3305.228709405704,\n          2266.35,\n          562733.0\n        ],\n        \"semantic_type\": \"\",\n        \"description\": \"\"\n      }\n    },\n    {\n      \"column\": \"dry_sales\",\n      \"properties\": {\n        \"dtype\": \"number\",\n        \"std\": 197008.6425250081,\n        \"min\": 506.4,\n        \"max\": 562733.0,\n        \"num_unique_values\": 8,\n        \"samples\": [\n          5627.679293945794,\n          5173.08,\n          562733.0\n        ],\n        \"semantic_type\": \"\",\n        \"description\": \"\"\n      }\n    },\n    {\n      \"column\": \"cluster_catgeory\",\n      \"properties\": {\n        \"dtype\": \"number\",\n        \"std\": 198950.1520715185,\n        \"min\": 1.0,\n        \"max\": 562732.0,\n        \"num_unique_values\": 7,\n        \"samples\": [\n          562732.0,\n          2.536843470781829,\n          4.0\n        ],\n        \"semantic_type\": \"\",\n        \"description\": \"\"\n      }\n    }\n  ]\n}"
            }
          },
          "metadata": {},
          "execution_count": 12
        }
      ]
    },
    {
      "cell_type": "code",
      "source": [
        "#Identifying outliers\n",
        "valid_categories = [ 1, 2, 3, 4, 5, 6]\n",
        "outliers = train[~train['cluster_catgeory'].isin(valid_categories)]\n",
        "#Checking which outliers exist\n",
        "print(outliers['cluster_catgeory'].unique())"
      ],
      "metadata": {
        "id": "tccb8gfLOao-",
        "outputId": "6452c111-6299-4418-82d9-ac6598ce2e4d",
        "colab": {
          "base_uri": "https://localhost:8080/"
        }
      },
      "execution_count": 13,
      "outputs": [
        {
          "output_type": "stream",
          "name": "stdout",
          "text": [
            "[ 99.  nan  95.  98. 100.  89.]\n"
          ]
        }
      ]
    },
    {
      "cell_type": "code",
      "source": [
        "train_cleaned = train[train['cluster_catgeory'].isin(valid_categories)]"
      ],
      "metadata": {
        "id": "Gy0q6GvxPSH9"
      },
      "execution_count": 14,
      "outputs": []
    },
    {
      "cell_type": "code",
      "source": [
        "train.info()"
      ],
      "metadata": {
        "id": "6AxxAa5EPWTC",
        "outputId": "0aa6ccff-90b5-4075-b9bb-ae8793616df8",
        "colab": {
          "base_uri": "https://localhost:8080/"
        }
      },
      "execution_count": 15,
      "outputs": [
        {
          "output_type": "stream",
          "name": "stdout",
          "text": [
            "<class 'pandas.core.frame.DataFrame'>\n",
            "Index: 562733 entries, 0 to 562819\n",
            "Data columns (total 6 columns):\n",
            " #   Column            Non-Null Count   Dtype  \n",
            "---  ------            --------------   -----  \n",
            " 0   Customer_ID       562733 non-null  float64\n",
            " 1   outlet_city       562733 non-null  int64  \n",
            " 2   luxury_sales      562733 non-null  float64\n",
            " 3   fresh_sales       562733 non-null  float64\n",
            " 4   dry_sales         562733 non-null  float64\n",
            " 5   cluster_catgeory  562732 non-null  float64\n",
            "dtypes: float64(5), int64(1)\n",
            "memory usage: 30.1 MB\n"
          ]
        }
      ]
    },
    {
      "cell_type": "code",
      "source": [
        "print(train['cluster_catgeory'].isna().sum())  # Count missing values"
      ],
      "metadata": {
        "id": "AAZbxeVhPZM6",
        "outputId": "20073608-6ea1-46d2-c057-8c8ca5de9dc4",
        "colab": {
          "base_uri": "https://localhost:8080/"
        }
      },
      "execution_count": 16,
      "outputs": [
        {
          "output_type": "stream",
          "name": "stdout",
          "text": [
            "1\n"
          ]
        }
      ]
    },
    {
      "cell_type": "code",
      "source": [
        "from sklearn.preprocessing import LabelEncoder\n",
        "\n",
        "encoder = LabelEncoder()\n",
        "train['cluster_catgeory'] = encoder.fit_transform(train['cluster_catgeory'])\n",
        "train['cluster_catgeory'].unique()"
      ],
      "metadata": {
        "id": "pz__al1CPdKJ",
        "outputId": "60e53940-3aa0-4971-f74f-c6c5166c2cce",
        "colab": {
          "base_uri": "https://localhost:8080/"
        }
      },
      "execution_count": 17,
      "outputs": [
        {
          "output_type": "execute_result",
          "data": {
            "text/plain": [
              "array([ 3,  0,  9,  1,  4,  2,  5, 11,  7,  8, 10,  6])"
            ]
          },
          "metadata": {},
          "execution_count": 17
        }
      ]
    },
    {
      "cell_type": "code",
      "source": [
        "train_cleaned['outlet_city'].unique()"
      ],
      "metadata": {
        "id": "4elt1SdwPhEV",
        "outputId": "be2c29e5-79cf-43d4-bf75-31712afa2714",
        "colab": {
          "base_uri": "https://localhost:8080/"
        }
      },
      "execution_count": 18,
      "outputs": [
        {
          "output_type": "execute_result",
          "data": {
            "text/plain": [
              "array([11, 13, 19,  5,  2, 16,  7, 17, 12, 15,  0,  1,  6,  4,  8,  3, 10,\n",
              "       14, 18,  9])"
            ]
          },
          "metadata": {},
          "execution_count": 18
        }
      ]
    },
    {
      "cell_type": "code",
      "source": [
        "train_cleaned.to_csv('/content/traincsv.csv', index=False) # Changed 'cleaned_train' to 'train_cleaned'\n",
        "print(\"CSV file has been saved!\")"
      ],
      "metadata": {
        "id": "cQIQ3MWDP3nw",
        "outputId": "8d116cb5-6db4-4760-c304-2ab7d2c449ac",
        "colab": {
          "base_uri": "https://localhost:8080/"
        }
      },
      "execution_count": 19,
      "outputs": [
        {
          "output_type": "stream",
          "name": "stdout",
          "text": [
            "CSV file has been saved!\n"
          ]
        }
      ]
    },
    {
      "cell_type": "code",
      "source": [
        "from google.colab import drive\n",
        "drive.mount('/content/drive')"
      ],
      "metadata": {
        "id": "GKDh8uehKq4t",
        "outputId": "73e372cb-abe7-40d8-a702-e2cac77bd414",
        "colab": {
          "base_uri": "https://localhost:8080/"
        }
      },
      "execution_count": 20,
      "outputs": [
        {
          "output_type": "stream",
          "name": "stdout",
          "text": [
            "Mounted at /content/drive\n"
          ]
        }
      ]
    },
    {
      "cell_type": "code",
      "source": [
        "from google.colab import files\n",
        "train.to_csv('cleaned_Train.csv', encoding = 'utf-8-sig')\n",
        "files.download('cleaned_Train.csv')"
      ],
      "metadata": {
        "id": "mPXOWM25P2qX",
        "outputId": "d00ad351-2b1f-435c-8853-c0e97764d1df",
        "colab": {
          "base_uri": "https://localhost:8080/",
          "height": 17
        }
      },
      "execution_count": 21,
      "outputs": [
        {
          "output_type": "display_data",
          "data": {
            "text/plain": [
              "<IPython.core.display.Javascript object>"
            ],
            "application/javascript": [
              "\n",
              "    async function download(id, filename, size) {\n",
              "      if (!google.colab.kernel.accessAllowed) {\n",
              "        return;\n",
              "      }\n",
              "      const div = document.createElement('div');\n",
              "      const label = document.createElement('label');\n",
              "      label.textContent = `Downloading \"${filename}\": `;\n",
              "      div.appendChild(label);\n",
              "      const progress = document.createElement('progress');\n",
              "      progress.max = size;\n",
              "      div.appendChild(progress);\n",
              "      document.body.appendChild(div);\n",
              "\n",
              "      const buffers = [];\n",
              "      let downloaded = 0;\n",
              "\n",
              "      const channel = await google.colab.kernel.comms.open(id);\n",
              "      // Send a message to notify the kernel that we're ready.\n",
              "      channel.send({})\n",
              "\n",
              "      for await (const message of channel.messages) {\n",
              "        // Send a message to notify the kernel that we're ready.\n",
              "        channel.send({})\n",
              "        if (message.buffers) {\n",
              "          for (const buffer of message.buffers) {\n",
              "            buffers.push(buffer);\n",
              "            downloaded += buffer.byteLength;\n",
              "            progress.value = downloaded;\n",
              "          }\n",
              "        }\n",
              "      }\n",
              "      const blob = new Blob(buffers, {type: 'application/binary'});\n",
              "      const a = document.createElement('a');\n",
              "      a.href = window.URL.createObjectURL(blob);\n",
              "      a.download = filename;\n",
              "      div.appendChild(a);\n",
              "      a.click();\n",
              "      div.remove();\n",
              "    }\n",
              "  "
            ]
          },
          "metadata": {}
        },
        {
          "output_type": "display_data",
          "data": {
            "text/plain": [
              "<IPython.core.display.Javascript object>"
            ],
            "application/javascript": [
              "download(\"download_669a5aca-fc7c-475d-9ff0-07f22730234c\", \"cleaned_Train.csv\", 25531628)"
            ]
          },
          "metadata": {}
        }
      ]
    },
    {
      "cell_type": "markdown",
      "source": [
        "Normalization (scaling values between 0 and 1)"
      ],
      "metadata": {
        "id": "UfqQaBjsQZTc"
      }
    },
    {
      "cell_type": "code",
      "source": [
        "# Normalization for train_df\n",
        "from sklearn.preprocessing import MinMaxScaler\n",
        "scaler = MinMaxScaler()\n",
        "cleaned_train = pd.read_csv(\"cleaned_train.csv\")\n",
        "sales_columns = [\"luxury_sales\",\"fresh_sales\", \"dry_sales\"]\n",
        "\n",
        "# Correctly access the columns for scaling\n",
        "cleaned_train[sales_columns] = scaler.fit_transform(cleaned_train[sales_columns])\n",
        "print(cleaned_train)"
      ],
      "metadata": {
        "id": "WRX2ISQ8QSBg",
        "outputId": "109e0e6f-cb6f-4d11-82ab-6749e3f500ca",
        "colab": {
          "base_uri": "https://localhost:8080/"
        }
      },
      "execution_count": 26,
      "outputs": [
        {
          "output_type": "stream",
          "name": "stdout",
          "text": [
            "        outlet_city  luxury_sales  fresh_sales  dry_sales  cluster_category\n",
            "0                11      0.204232     0.146262   0.281710               4.0\n",
            "1                13      0.373378     0.320062   0.380366               1.0\n",
            "2                19      0.683986     0.560665   0.814712               4.0\n",
            "3                19      0.677790     0.708482   0.807019               4.0\n",
            "4                11      0.709150     0.897034   0.826917               4.0\n",
            "...             ...           ...          ...        ...               ...\n",
            "111093           17      0.767999     0.500972   0.824052               4.0\n",
            "111094           19      0.321014     0.397897   0.389499               4.0\n",
            "111095            7      0.881226     0.573177   0.795682               4.0\n",
            "111096            5      0.541418     0.539100   0.782535               4.0\n",
            "111097           15           NaN          NaN        NaN               NaN\n",
            "\n",
            "[111098 rows x 5 columns]\n"
          ]
        }
      ]
    }
  ]
}