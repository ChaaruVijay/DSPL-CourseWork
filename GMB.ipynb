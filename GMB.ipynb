{
  "nbformat": 4,
  "nbformat_minor": 0,
  "metadata": {
    "colab": {
      "provenance": [],
      "include_colab_link": true
    },
    "kernelspec": {
      "name": "python3",
      "display_name": "Python 3"
    },
    "language_info": {
      "name": "python"
    }
  },
  "cells": [
    {
      "cell_type": "markdown",
      "metadata": {
        "id": "view-in-github",
        "colab_type": "text"
      },
      "source": [
        "<a href=\"https://colab.research.google.com/github/ChaaruVijay/DSPL-CourseWork/blob/main/GMB.ipynb\" target=\"_parent\"><img src=\"https://colab.research.google.com/assets/colab-badge.svg\" alt=\"Open In Colab\"/></a>"
      ]
    },
    {
      "cell_type": "markdown",
      "source": [
        "# **Train** **CSV**"
      ],
      "metadata": {
        "id": "FIAMWQIvKRMf"
      }
    },
    {
      "cell_type": "markdown",
      "source": [
        "Data Cleaning"
      ],
      "metadata": {
        "id": "FKcOJxz7J_J7"
      }
    },
    {
      "cell_type": "markdown",
      "source": [
        "Data cleaning Tasks : Handling missing values. Correcting data entry errors. Standardizing data formats. Encoding categorical variables. Removing duplicates or irrelevant data."
      ],
      "metadata": {
        "id": "TgfAPfBEKpBe"
      }
    },
    {
      "cell_type": "code",
      "source": [
        "import pandas as pd\n",
        "train = pd.read_csv('traincsv.csv')"
      ],
      "metadata": {
        "id": "klz4NIqWKyt0",
        "outputId": "cd7db2fc-f614-4a5f-acb3-0f5a72e5cfee",
        "colab": {
          "base_uri": "https://localhost:8080/"
        }
      },
      "execution_count": 9,
      "outputs": [
        {
          "output_type": "stream",
          "name": "stderr",
          "text": [
            "<ipython-input-9-936b2d0d5935>:2: DtypeWarning: Columns (3,4,5) have mixed types. Specify dtype option on import or set low_memory=False.\n",
            "  train = pd.read_csv('traincsv.csv')\n"
          ]
        }
      ]
    },
    {
      "cell_type": "code",
      "source": [
        "#convert the strings to numeric value\n",
        "train['luxury_sales'] = pd.to_numeric(train['luxury_sales'], errors='coerce').astype(float)\n",
        "train['fresh_sales'] = pd.to_numeric(train['fresh_sales'], errors='coerce').astype(float)\n",
        "train['dry_sales'] = pd.to_numeric(train['dry_sales'], errors='coerce').astype(float)"
      ],
      "metadata": {
        "id": "JCCK3R4gNGos"
      },
      "execution_count": 10,
      "outputs": []
    },
    {
      "cell_type": "markdown",
      "source": [
        "Customer ID"
      ],
      "metadata": {
        "id": "Y9YhWDGXKrA-"
      }
    },
    {
      "cell_type": "code",
      "source": [
        "#Identifying missing rows in customerId\n",
        "missing_index = train[train['Customer_ID'].isna()].index\n",
        "missing_index"
      ],
      "metadata": {
        "id": "zcDaQDQGKqxK",
        "outputId": "161ee5f4-1a5b-4a6a-b302-207d07c438f3",
        "colab": {
          "base_uri": "https://localhost:8080/"
        }
      },
      "execution_count": 11,
      "outputs": [
        {
          "output_type": "execute_result",
          "data": {
            "text/plain": [
              "Index([497678, 497698], dtype='int64')"
            ]
          },
          "metadata": {},
          "execution_count": 11
        }
      ]
    },
    {
      "cell_type": "code",
      "execution_count": 12,
      "metadata": {
        "id": "zVcg9GyJP8qe",
        "outputId": "db5b892f-ccec-4268-975c-292b1a68a5b8",
        "colab": {
          "base_uri": "https://localhost:8080/"
        }
      },
      "outputs": [
        {
          "output_type": "stream",
          "name": "stdout",
          "text": [
            "Missing Percentage: 0.00%\n"
          ]
        }
      ],
      "source": [
        "missing_percentage = (train['Customer_ID'].isna().sum() / len(train)) * 100\n",
        "print(f\"Missing Percentage: {missing_percentage:.2f}%\")"
      ]
    },
    {
      "cell_type": "code",
      "source": [
        "# Remove rows with missing values in customerId\n",
        "train = train.dropna()"
      ],
      "metadata": {
        "id": "w5oX6zClLNoR"
      },
      "execution_count": 13,
      "outputs": []
    },
    {
      "cell_type": "markdown",
      "source": [
        "Outlets"
      ],
      "metadata": {
        "id": "JE3B0X9JLQ2a"
      }
    },
    {
      "cell_type": "code",
      "source": [
        "#Identifying unique Ids in train\n",
        "train[\"outlet_city\"].unique()"
      ],
      "metadata": {
        "id": "FgtZANZ9LOgj",
        "outputId": "04ef5091-4e6b-45f6-c815-7c06b4ed1b94",
        "colab": {
          "base_uri": "https://localhost:8080/"
        }
      },
      "execution_count": 14,
      "outputs": [
        {
          "output_type": "execute_result",
          "data": {
            "text/plain": [
              "array(['Kelaniya', 'Moratuwa', 'Wattala', 'Homagama',\n",
              "       'Dehiwala-Mount Lavinia', 'Panadura', 'Kaduwela', 'Peliyagoda',\n",
              "       'Kotte', 'Nuwara Eliya', 'Batticaloa', 'Colombo', 'Jaffna',\n",
              "       'Gampaha', 'Kalmunai', 'Galle', 'Katunayake', 'Negombo',\n",
              "       'Trincomalee', 'Kandy'], dtype=object)"
            ]
          },
          "metadata": {},
          "execution_count": 14
        }
      ]
    },
    {
      "cell_type": "code",
      "source": [],
      "metadata": {
        "id": "ekLUa6HrM3yx"
      },
      "execution_count": 14,
      "outputs": []
    }
  ]
}